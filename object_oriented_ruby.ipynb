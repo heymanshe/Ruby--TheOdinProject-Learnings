{
 "cells": [
  {
   "cell_type": "code",
   "execution_count": 1,
   "id": "e460e654",
   "metadata": {},
   "outputs": [
    {
     "data": {
      "text/plain": [
       "String"
      ]
     },
     "execution_count": 1,
     "metadata": {},
     "output_type": "execute_result"
    }
   ],
   "source": [
    "\"hello\".class\n"
   ]
  },
  {
   "cell_type": "code",
   "execution_count": 2,
   "id": "da38560f",
   "metadata": {},
   "outputs": [
    {
     "data": {
      "text/plain": [
       "String"
      ]
     },
     "execution_count": 2,
     "metadata": {},
     "output_type": "execute_result"
    }
   ],
   "source": [
    "\"world\".class\n"
   ]
  },
  {
   "cell_type": "code",
   "execution_count": 4,
   "id": "192fc0b7",
   "metadata": {},
   "outputs": [
    {
     "data": {
      "text/plain": [
       "#<#<Class:0x00007216d7cb0f10>::GoodDog:0x00007216d958c1d8>"
      ]
     },
     "execution_count": 4,
     "metadata": {},
     "output_type": "execute_result"
    }
   ],
   "source": [
    "class GoodDog\n",
    "end\n",
    "\n",
    "sparky = GoodDog.new\n"
   ]
  },
  {
   "cell_type": "code",
   "execution_count": 10,
   "id": "84f62c60",
   "metadata": {},
   "outputs": [
    {
     "name": "stdout",
     "output_type": "stream",
     "text": [
      "Woof!\n",
      "Hello1!\n"
     ]
    }
   ],
   "source": [
    "module Speak\n",
    "  def speak(sound)\n",
    "    puts sound\n",
    "  end\n",
    "end\n",
    "\n",
    "class GoodDog\n",
    "  include Speak\n",
    "end\n",
    "\n",
    "class HumanBeing\n",
    "  include Speak\n",
    "end\n",
    "\n",
    "sparky = GoodDog.new\n",
    "sparky.speak(\"Woof!\")\n",
    "bob = HumanBeing.new\n",
    "bob.speak(\"Hello1!\")\n",
    "\n",
    "#Modules"
   ]
  },
  {
   "cell_type": "code",
   "execution_count": 12,
   "id": "12a1a1db",
   "metadata": {},
   "outputs": [
    {
     "name": "stdout",
     "output_type": "stream",
     "text": [
      "---GoodDog ancestors---\n",
      "#<Class:0x00007216d7cb0f10>::GoodDog\n",
      "#<Class:0x00007216d7cb0f10>::Speak\n",
      "Object\n",
      "PP::ObjectMixin\n",
      "JSON::Ext::Generator::GeneratorMethods::Object\n",
      "Kernel\n",
      "BasicObject\n",
      "\n",
      "---HumanBeing ancestors---\n",
      "#<Class:0x00007216d7cb0f10>::HumanBeing\n",
      "#<Class:0x00007216d7cb0f10>::Speak\n",
      "Object\n",
      "PP::ObjectMixin\n",
      "JSON::Ext::Generator::GeneratorMethods::Object\n",
      "Kernel\n",
      "BasicObject\n"
     ]
    }
   ],
   "source": [
    "# Method Lookup\n",
    "\n",
    "module Speak\n",
    "  def speak(sound)\n",
    "    puts \"#{sound}\"\n",
    "  end\n",
    "end\n",
    "\n",
    "class GoodDog\n",
    "  include Speak\n",
    "end\n",
    "\n",
    "class HumanBeing\n",
    "  include Speak\n",
    "end\n",
    " \n",
    "\n",
    "puts \"---GoodDog ancestors---\"\n",
    "puts GoodDog.ancestors\n",
    "puts ''\n",
    "puts \"---HumanBeing ancestors---\"\n",
    "puts HumanBeing.ancestors"
   ]
  },
  {
   "cell_type": "code",
   "execution_count": null,
   "id": "05d1617c",
   "metadata": {},
   "outputs": [],
   "source": []
  }
 ],
 "metadata": {
  "kernelspec": {
   "display_name": "Ruby 3 (iruby kernel)",
   "language": "ruby",
   "name": "ruby3"
  },
  "language_info": {
   "file_extension": ".rb",
   "mimetype": "application/x-ruby",
   "name": "ruby",
   "version": "3.3.5"
  }
 },
 "nbformat": 4,
 "nbformat_minor": 5
}
