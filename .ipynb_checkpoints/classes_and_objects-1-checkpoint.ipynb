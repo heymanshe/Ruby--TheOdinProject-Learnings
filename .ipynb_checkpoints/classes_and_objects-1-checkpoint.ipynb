{
 "cells": [
  {
   "cell_type": "code",
   "execution_count": 2,
   "id": "2d23809a",
   "metadata": {},
   "outputs": [
    {
     "name": "stdout",
     "output_type": "stream",
     "text": [
      "This objects was initialized\n"
     ]
    },
    {
     "data": {
      "text/plain": [
       "#<#<Class:0x000073e8119c0fa0>::GoodDog:0x000073e8135aa158>"
      ]
     },
     "execution_count": 2,
     "metadata": {},
     "output_type": "execute_result"
    }
   ],
   "source": [
    "class GoodDog\n",
    "  def initialize\n",
    "    puts \"This objects was initialized\"\n",
    "  end\n",
    "end\n",
    "\n",
    "sparky = GoodDog.new\n",
    "\n",
    "# calling the new class method eventually leads us to the initialize instance method"
   ]
  },
  {
   "cell_type": "code",
   "execution_count": 4,
   "id": "0edd7c7e",
   "metadata": {},
   "outputs": [
    {
     "data": {
      "text/plain": [
       "#<#<Class:0x000073e8119c0fa0>::GoodDog:0x000073e830973790 @name=\"Sparky\">"
      ]
     },
     "execution_count": 4,
     "metadata": {},
     "output_type": "execute_result"
    }
   ],
   "source": [
    "# Instance varibles => \"lives on\", to be referenced, \n",
    "# until the object instance is destroyed\n",
    "\n",
    "class GoodDog\n",
    "  def initialize(name)\n",
    "    @name = name\n",
    "  end\n",
    "end\n",
    "\n",
    "sparky = GoodDog.new(\"Sparky\")"
   ]
  },
  {
   "cell_type": "code",
   "execution_count": 6,
   "id": "bf5ffede",
   "metadata": {},
   "outputs": [
    {
     "name": "stdout",
     "output_type": "stream",
     "text": [
      "Engine starting...\n"
     ]
    }
   ],
   "source": [
    "# composition => implemented using instance variables \n",
    "# that are initialized via the constructor of the class\n",
    "\n",
    "class Engine\n",
    "  def start \n",
    "    puts \"Engine starting...\"\n",
    "  end\n",
    "end\n",
    "\n",
    "class Car\n",
    "  def initialize \n",
    "    @engine = Engine.new # Engine instance is created when Car is created\n",
    "  end\n",
    "  \n",
    "  def start\n",
    "    @engine.start\n",
    "  end\n",
    "end\n",
    "\n",
    "my_car = Car.new\n",
    "my_car.start # Engine is an integral part of Car"
   ]
  },
  {
   "cell_type": "code",
   "execution_count": 7,
   "id": "92d2f719",
   "metadata": {},
   "outputs": [
    {
     "data": {
      "text/plain": [
       "#<#<Class:0x000073e8119c0fa0>::Car:0x000073e813545398 @passengers=[#<#<Class:0x000073e8119c0fa0>::Passenger:0x000073e813545b18>, #<#<Class:0x000073e8119c0fa0>::Passenger:0x000073e8135456b8>]>"
      ]
     },
     "execution_count": 7,
     "metadata": {},
     "output_type": "execute_result"
    }
   ],
   "source": [
    "# Aggragation => The container does not own the contained objects; \n",
    "# they can exist independently.\n",
    "\n",
    "class Passenger\n",
    "end\n",
    "\n",
    "class Car\n",
    "  def initialize(passengers)\n",
    "    @passengers = passengers  # Passengers are given to the Car at creation\n",
    "  end\n",
    "end\n",
    "\n",
    "# Passengers can exist without Car\n",
    "passengers = [Passenger.new, Passenger.new]\n",
    "my_car = Car.new(passengers)"
   ]
  },
  {
   "cell_type": "code",
   "execution_count": null,
   "id": "dcedac7c",
   "metadata": {},
   "outputs": [],
   "source": [
    "# Instance method\n",
    "\n"
   ]
  }
 ],
 "metadata": {
  "kernelspec": {
   "display_name": "Ruby 3 (iruby kernel)",
   "language": "ruby",
   "name": "ruby3"
  },
  "language_info": {
   "file_extension": ".rb",
   "mimetype": "application/x-ruby",
   "name": "ruby",
   "version": "3.3.5"
  }
 },
 "nbformat": 4,
 "nbformat_minor": 5
}
