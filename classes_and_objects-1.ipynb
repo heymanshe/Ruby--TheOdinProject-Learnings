{
 "cells": [
  {
   "cell_type": "code",
   "execution_count": 2,
   "id": "7fd8d4d7",
   "metadata": {},
   "outputs": [
    {
     "name": "stdout",
     "output_type": "stream",
     "text": [
      "This objects was initialized\n"
     ]
    },
    {
     "data": {
      "text/plain": [
       "#<#<Class:0x000073e8119c0fa0>::GoodDog:0x000073e8135aa158>"
      ]
     },
     "execution_count": 2,
     "metadata": {},
     "output_type": "execute_result"
    }
   ],
   "source": [
    "class GoodDog\n",
    "  def initialize\n",
    "    puts \"This objects was initialized\"\n",
    "  end\n",
    "end\n",
    "\n",
    "sparky = GoodDog.new\n",
    "\n",
    "# calling the new class method eventually leads us to the initialize instance method"
   ]
  },
  {
   "cell_type": "code",
   "execution_count": 4,
   "id": "5c60c4b7",
   "metadata": {},
   "outputs": [
    {
     "data": {
      "text/plain": [
       "#<#<Class:0x000073e8119c0fa0>::GoodDog:0x000073e830973790 @name=\"Sparky\">"
      ]
     },
     "execution_count": 4,
     "metadata": {},
     "output_type": "execute_result"
    }
   ],
   "source": [
    "# Instance varibles => \"lives on\", to be referenced, \n",
    "# until the object instance is destroyed\n",
    "\n",
    "class GoodDog\n",
    "  def initialize(name)\n",
    "    @name = name\n",
    "  end\n",
    "end\n",
    "\n",
    "sparky = GoodDog.new(\"Sparky\")"
   ]
  },
  {
   "cell_type": "code",
   "execution_count": 6,
   "id": "42f30182",
   "metadata": {},
   "outputs": [
    {
     "name": "stdout",
     "output_type": "stream",
     "text": [
      "Engine starting...\n"
     ]
    }
   ],
   "source": [
    "# composition => implemented using instance variables that are initialized via \n",
    "# the constructor of the class. The container owns the contained objects, \n",
    "# and their lifecycles are tightly link\n",
    "\n",
    "class Engine\n",
    "  def start \n",
    "    puts \"Engine starting...\"\n",
    "  end\n",
    "end\n",
    "\n",
    "class Car\n",
    "  def initialize \n",
    "    @engine = Engine.new # Engine instance is created when Car is created\n",
    "  end\n",
    "  \n",
    "  def start\n",
    "    @engine.start\n",
    "  end\n",
    "end\n",
    "\n",
    "my_car = Car.new\n",
    "my_car.start # Engine is an integral part of Car"
   ]
  },
  {
   "cell_type": "code",
   "execution_count": 7,
   "id": "b4e94364",
   "metadata": {},
   "outputs": [
    {
     "data": {
      "text/plain": [
       "#<#<Class:0x000073e8119c0fa0>::Car:0x000073e813545398 @passengers=[#<#<Class:0x000073e8119c0fa0>::Passenger:0x000073e813545b18>, #<#<Class:0x000073e8119c0fa0>::Passenger:0x000073e8135456b8>]>"
      ]
     },
     "execution_count": 7,
     "metadata": {},
     "output_type": "execute_result"
    }
   ],
   "source": [
    "# Aggragation => The container does not own the contained objects; \n",
    "# they can exist independently.\n",
    "\n",
    "class Passenger\n",
    "end\n",
    "\n",
    "class Car\n",
    "  def initialize(passengers)\n",
    "    @passengers = passengers  # Passengers are given to the Car at creation\n",
    "  end\n",
    "end\n",
    "\n",
    "# Passengers can exist without Car\n",
    "passengers = [Passenger.new, Passenger.new]\n",
    "my_car = Car.new(passengers)"
   ]
  },
  {
   "cell_type": "code",
   "execution_count": 9,
   "id": "814f953c",
   "metadata": {},
   "outputs": [
    {
     "name": "stdout",
     "output_type": "stream",
     "text": [
      "Sparky says Woof!\n",
      "Fido says Woof!\n"
     ]
    }
   ],
   "source": [
    "# Instance method\n",
    "\n",
    "class GoodDog\n",
    "  def initilize(name)\n",
    "    @name = name\n",
    "  end\n",
    "  \n",
    "  def speak\n",
    "    \"#{@name} says Woof!\"\n",
    "  end\n",
    "end\n",
    "\n",
    "sparky = GoodDog.new(\"Sparky\")\n",
    "puts sparky.speak\n",
    "\n",
    "fido = GoodDog.new(\"Fido\")\n",
    "puts fido.speak"
   ]
  },
  {
   "cell_type": "code",
   "execution_count": 18,
   "id": "02676cc7",
   "metadata": {},
   "outputs": [
    {
     "name": "stdout",
     "output_type": "stream",
     "text": [
      "Car is speeding with 20 mph.\n",
      "Car is speeding with 40 mph.\n",
      "Car is slowed down with 10 mph.\n",
      "Car is slowed down with 20 mph.\n",
      "Car is stopped.\n"
     ]
    },
    {
     "data": {
      "text/plain": [
       "0"
      ]
     },
     "execution_count": 18,
     "metadata": {},
     "output_type": "execute_result"
    }
   ],
   "source": [
    "# Exercise\n",
    "\n",
    "class MyCar\n",
    "  def initialize(year, color, model)\n",
    "    @year = year\n",
    "    @color = color\n",
    "    @model = model\n",
    "    @current_speed = 0\n",
    "  end\n",
    "  \n",
    "  def speed_up(speed)\n",
    "    @current_speed += speed\n",
    "    puts \"Car is speeding with #{speed} mph.\"\n",
    "  end\n",
    "\n",
    "  def brake(speed)\n",
    "    @current_speed -= speed \n",
    "    puts \"Car is slowed down with #{speed} mph.\"\n",
    "  end\n",
    "  \n",
    "  def shut_off\n",
    "    @current_speed = 0\n",
    "    puts \"Car is stopped.\"\n",
    "  end\n",
    "  \n",
    "  def current_speed\n",
    "    @current_speed\n",
    "  end\n",
    "end\n",
    "\n",
    "lumina = MyCar.new(1997, 'white', 'chevy lumina')\n",
    "lumina.speed_up(20)\n",
    "lumina.current_speed\n",
    "lumina.speed_up(40)\n",
    "lumina.current_speed\n",
    "lumina.brake(10)\n",
    "lumina.current_speed\n",
    "lumina.brake(20)\n",
    "lumina.current_speed\n",
    "lumina.shut_off\n",
    "lumina.current_speed\n"
   ]
  },
  {
   "cell_type": "code",
   "execution_count": null,
   "id": "d1ca1c90",
   "metadata": {},
   "outputs": [],
   "source": []
  },
  {
   "cell_type": "code",
   "execution_count": null,
   "id": "9e691b1f",
   "metadata": {},
   "outputs": [],
   "source": []
  }
 ],
 "metadata": {
  "kernelspec": {
   "display_name": "Ruby 3 (iruby kernel)",
   "language": "ruby",
   "name": "ruby3"
  },
  "language_info": {
   "file_extension": ".rb",
   "mimetype": "application/x-ruby",
   "name": "ruby",
   "version": "3.3.5"
  }
 },
 "nbformat": 4,
 "nbformat_minor": 5
}
